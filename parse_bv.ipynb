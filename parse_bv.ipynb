{
 "cells": [
  {
   "cell_type": "code",
   "execution_count": 190,
   "metadata": {},
   "outputs": [],
   "source": [
    "import pandas as pd\n",
    "\n",
    "textstream = ['sample.txt']\n",
    "\n",
    "def parse_bv(textstream):\n",
    "    for text in textstream:\n",
    "        text = open(text, 'r')\n",
    "        read = text.read()\n",
    "        splitted = read.split('***')\n",
    "        violences = list(filter(None, splitted[0].split('\\n')))\n",
    "        behaviors = list(filter(None, splitted[-1].split('\\n')))\n",
    "\n",
    "        df = pd.DataFrame(np.zeros((4,3)), columns=violences)\n",
    "        df = df.set_index([behaviors])\n",
    "\n",
    "        violences_objects = df.columns\n",
    "        behaviors_object = df.index\n",
    "\n",
    "        for v in violences_objects:\n",
    "            for b in behaviors_objects:\n",
    "                df[v].loc[b] = 1\n",
    "        text.close()\n",
    "\n",
    "    df.to_csv('parsed_behavior_violence.csv')\n"
   ]
  },
  {
   "cell_type": "code",
   "execution_count": 191,
   "metadata": {},
   "outputs": [],
   "source": [
    "parse_bv(textstream)"
   ]
  }
 ],
 "metadata": {
  "kernelspec": {
   "display_name": "Python 3",
   "language": "python",
   "name": "python3"
  },
  "language_info": {
   "codemirror_mode": {
    "name": "ipython",
    "version": 3
   },
   "file_extension": ".py",
   "mimetype": "text/x-python",
   "name": "python",
   "nbconvert_exporter": "python",
   "pygments_lexer": "ipython3",
   "version": "3.6.4"
  }
 },
 "nbformat": 4,
 "nbformat_minor": 2
}
